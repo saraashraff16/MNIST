{
  "cells": [
    {
      "cell_type": "markdown",
      "metadata": {
        "id": "3S65QpHng4Em"
      },
      "source": [
        "# Import Libraries"
      ]
    },
    {
      "cell_type": "code",
      "execution_count": 55,
      "metadata": {
        "id": "QI9IBH-Jg98D"
      },
      "outputs": [],
      "source": [
        "import pandas as pd\n",
        "import numpy as np\n",
        "import matplotlib.pyplot as plt\n",
        "import seaborn as sns\n",
        "from sklearn.datasets import load_digits\n",
        "from sklearn.model_selection import train_test_split\n",
        "from sklearn.linear_model import LogisticRegression\n",
        "from sklearn.neighbors import KNeighborsClassifier\n",
        "from sklearn.ensemble import RandomForestClassifier\n",
        "from sklearn.neural_network import MLPClassifier\n",
        "from sklearn.preprocessing import StandardScaler , MinMaxScaler , LabelEncoder\n",
        "from sklearn.metrics import silhouette_score,accuracy_score, classification_report,r2_score,mean_squared_error\n",
        "from tensorflow.keras.utils import to_categorical\n",
        "from tensorflow.keras import layers, models\n",
        "from tensorflow.keras.optimizers import Adam\n",
        "import joblib\n",
        "import warnings\n",
        "warnings.filterwarnings('ignore')"
      ]
    },
    {
      "cell_type": "markdown",
      "metadata": {
        "id": "aYCexGIo1SbS"
      },
      "source": [
        "# Load Data"
      ]
    },
    {
      "cell_type": "code",
      "execution_count": 2,
      "metadata": {
        "id": "hvwvtbno1Rjx"
      },
      "outputs": [],
      "source": [
        "digits=load_digits()"
      ]
    },
    {
      "cell_type": "code",
      "execution_count": 3,
      "metadata": {
        "id": "YRUL82EB1cIF"
      },
      "outputs": [],
      "source": [
        "x=digits.data\n",
        "y=digits.target"
      ]
    },
    {
      "cell_type": "markdown",
      "metadata": {
        "id": "NUy1FCDo32qS"
      },
      "source": [
        "# Data Exploration"
      ]
    },
    {
      "cell_type": "code",
      "execution_count": 4,
      "metadata": {
        "colab": {
          "base_uri": "https://localhost:8080/"
        },
        "id": "HYvEhoBv1q88",
        "outputId": "adf9ec9a-9328-4715-d241-a5a862f913db"
      },
      "outputs": [
        {
          "data": {
            "text/plain": [
              "(1797, 64)"
            ]
          },
          "execution_count": 4,
          "metadata": {},
          "output_type": "execute_result"
        }
      ],
      "source": [
        "x.shape"
      ]
    },
    {
      "cell_type": "code",
      "execution_count": 5,
      "metadata": {
        "colab": {
          "base_uri": "https://localhost:8080/"
        },
        "id": "-V7SeY5B1t1Y",
        "outputId": "6cbd08db-1f88-4a2a-9575-ae40d3976568"
      },
      "outputs": [
        {
          "data": {
            "text/plain": [
              "(1797,)"
            ]
          },
          "execution_count": 5,
          "metadata": {},
          "output_type": "execute_result"
        }
      ],
      "source": [
        "y.shape"
      ]
    },
    {
      "cell_type": "code",
      "execution_count": 6,
      "metadata": {
        "colab": {
          "base_uri": "https://localhost:8080/"
        },
        "id": "COz1DYSKLx8q",
        "outputId": "d2a1bbf1-b7b1-4d8b-d3c4-d6fee4619899"
      },
      "outputs": [
        {
          "data": {
            "text/plain": [
              "array([0, 1, 2, 3, 4, 5, 6, 7, 8, 9])"
            ]
          },
          "execution_count": 6,
          "metadata": {},
          "output_type": "execute_result"
        }
      ],
      "source": [
        "digits.target_names"
      ]
    },
    {
      "cell_type": "code",
      "execution_count": 7,
      "metadata": {
        "colab": {
          "base_uri": "https://localhost:8080/"
        },
        "id": "aq-Josf8MDSA",
        "outputId": "9959d105-2ec2-488b-f310-b9f682959f69"
      },
      "outputs": [
        {
          "name": "stdout",
          "output_type": "stream",
          "text": [
            ".. _digits_dataset:\n",
            "\n",
            "Optical recognition of handwritten digits dataset\n",
            "--------------------------------------------------\n",
            "\n",
            "**Data Set Characteristics:**\n",
            "\n",
            ":Number of Instances: 1797\n",
            ":Number of Attributes: 64\n",
            ":Attribute Information: 8x8 image of integer pixels in the range 0..16.\n",
            ":Missing Attribute Values: None\n",
            ":Creator: E. Alpaydin (alpaydin '@' boun.edu.tr)\n",
            ":Date: July; 1998\n",
            "\n",
            "This is a copy of the test set of the UCI ML hand-written digits datasets\n",
            "https://archive.ics.uci.edu/ml/datasets/Optical+Recognition+of+Handwritten+Digits\n",
            "\n",
            "The data set contains images of hand-written digits: 10 classes where\n",
            "each class refers to a digit.\n",
            "\n",
            "Preprocessing programs made available by NIST were used to extract\n",
            "normalized bitmaps of handwritten digits from a preprinted form. From a\n",
            "total of 43 people, 30 contributed to the training set and different 13\n",
            "to the test set. 32x32 bitmaps are divided into nonoverlapping blocks of\n",
            "4x4 and the number of on pixels are counted in each block. This generates\n",
            "an input matrix of 8x8 where each element is an integer in the range\n",
            "0..16. This reduces dimensionality and gives invariance to small\n",
            "distortions.\n",
            "\n",
            "For info on NIST preprocessing routines, see M. D. Garris, J. L. Blue, G.\n",
            "T. Candela, D. L. Dimmick, J. Geist, P. J. Grother, S. A. Janet, and C.\n",
            "L. Wilson, NIST Form-Based Handprint Recognition System, NISTIR 5469,\n",
            "1994.\n",
            "\n",
            ".. dropdown:: References\n",
            "\n",
            "  - C. Kaynak (1995) Methods of Combining Multiple Classifiers and Their\n",
            "    Applications to Handwritten Digit Recognition, MSc Thesis, Institute of\n",
            "    Graduate Studies in Science and Engineering, Bogazici University.\n",
            "  - E. Alpaydin, C. Kaynak (1998) Cascading Classifiers, Kybernetika.\n",
            "  - Ken Tang and Ponnuthurai N. Suganthan and Xi Yao and A. Kai Qin.\n",
            "    Linear dimensionalityreduction using relevance weighted LDA. School of\n",
            "    Electrical and Electronic Engineering Nanyang Technological University.\n",
            "    2005.\n",
            "  - Claudio Gentile. A New Approximate Maximal Margin Classification\n",
            "    Algorithm. NIPS. 2000.\n",
            "\n"
          ]
        }
      ],
      "source": [
        "print(digits.DESCR)"
      ]
    },
    {
      "cell_type": "code",
      "execution_count": 8,
      "metadata": {
        "colab": {
          "base_uri": "https://localhost:8080/"
        },
        "id": "oPMBT4OHMlS6",
        "outputId": "e26a96dd-6817-479d-ea18-481c79fd3f52"
      },
      "outputs": [
        {
          "data": {
            "text/plain": [
              "array([ 0.,  0.,  5., 13.,  9.,  1.,  0.,  0.,  0.,  0., 13., 15., 10.,\n",
              "       15.,  5.,  0.,  0.,  3., 15.,  2.,  0., 11.,  8.,  0.,  0.,  4.,\n",
              "       12.,  0.,  0.,  8.,  8.,  0.,  0.,  5.,  8.,  0.,  0.,  9.,  8.,\n",
              "        0.,  0.,  4., 11.,  0.,  1., 12.,  7.,  0.,  0.,  2., 14.,  5.,\n",
              "       10., 12.,  0.,  0.,  0.,  0.,  6., 13., 10.,  0.,  0.,  0.])"
            ]
          },
          "execution_count": 8,
          "metadata": {},
          "output_type": "execute_result"
        }
      ],
      "source": [
        "digits.data[0]"
      ]
    },
    {
      "cell_type": "code",
      "execution_count": 9,
      "metadata": {
        "colab": {
          "base_uri": "https://localhost:8080/"
        },
        "id": "vgqlmYt_MlPb",
        "outputId": "c52c87ea-e7cd-4194-82b1-44bb595f6b97"
      },
      "outputs": [
        {
          "data": {
            "text/plain": [
              "array([[ 0.,  0.,  5., 13.,  9.,  1.,  0.,  0.],\n",
              "       [ 0.,  0., 13., 15., 10., 15.,  5.,  0.],\n",
              "       [ 0.,  3., 15.,  2.,  0., 11.,  8.,  0.],\n",
              "       [ 0.,  4., 12.,  0.,  0.,  8.,  8.,  0.],\n",
              "       [ 0.,  5.,  8.,  0.,  0.,  9.,  8.,  0.],\n",
              "       [ 0.,  4., 11.,  0.,  1., 12.,  7.,  0.],\n",
              "       [ 0.,  2., 14.,  5., 10., 12.,  0.,  0.],\n",
              "       [ 0.,  0.,  6., 13., 10.,  0.,  0.,  0.]])"
            ]
          },
          "execution_count": 9,
          "metadata": {},
          "output_type": "execute_result"
        }
      ],
      "source": [
        "digits.images[0]"
      ]
    },
    {
      "cell_type": "code",
      "execution_count": 10,
      "metadata": {
        "colab": {
          "base_uri": "https://localhost:8080/",
          "height": 0
        },
        "id": "mk26LySp33Z8",
        "outputId": "6b522333-99ab-41c6-f967-98498e642724"
      },
      "outputs": [
        {
          "data": {
            "image/png": "[encoded data removed]",
            "text/plain": [
              "<Figure size 800x400 with 10 Axes>"
            ]
          },
          "metadata": {},
          "output_type": "display_data"
        }
      ],
      "source": [
        "fig, axes = plt.subplots(2, 5, figsize=(8, 4))\n",
        "for i, ax in enumerate(axes.flat):\n",
        "    ax.imshow(digits.images[i], cmap='gray')\n",
        "    ax.set_title(f\"Label: {digits.target[i]}\")\n",
        "    ax.axis('off')\n",
        "plt.show()"
      ]
    },
    {
      "cell_type": "code",
      "execution_count": 11,
      "metadata": {
        "id": "WX4E1w_l4tmq"
      },
      "outputs": [],
      "source": [
        "df=pd.DataFrame(x)\n",
        "df['target']=y"
      ]
    },
    {
      "cell_type": "code",
      "execution_count": 12,
      "metadata": {
        "colab": {
          "base_uri": "https://localhost:8080/"
        },
        "id": "OV7wgQk_J5KX",
        "outputId": "c2365e1b-aef3-42b9-c981-8d1df725f736"
      },
      "outputs": [
        {
          "data": {
            "text/plain": [
              "np.int64(0)"
            ]
          },
          "execution_count": 12,
          "metadata": {},
          "output_type": "execute_result"
        }
      ],
      "source": [
        "df.isna().sum().sum()"
      ]
    },
    {
      "cell_type": "code",
      "execution_count": 13,
      "metadata": {
        "colab": {
          "base_uri": "https://localhost:8080/"
        },
        "id": "Cz6B2iCEJ7iZ",
        "outputId": "6263e410-40d2-4379-ec61-bb296afb5583"
      },
      "outputs": [
        {
          "data": {
            "text/plain": [
              "np.int64(0)"
            ]
          },
          "execution_count": 13,
          "metadata": {},
          "output_type": "execute_result"
        }
      ],
      "source": [
        "df.duplicated().sum()"
      ]
    },
    {
      "cell_type": "markdown",
      "metadata": {
        "id": "npwkXZkjUOmv"
      },
      "source": [
        "# Preprocessing"
      ]
    },
    {
      "cell_type": "code",
      "execution_count": 14,
      "metadata": {
        "id": "7sGlquHlJ_qv"
      },
      "outputs": [],
      "source": [
        "#scale the data\n",
        "scaler=MinMaxScaler()\n",
        "x_scaled=scaler.fit_transform(x)"
      ]
    },
    {
      "cell_type": "code",
      "execution_count": 15,
      "metadata": {
        "id": "xWplMWyAYlX2"
      },
      "outputs": [],
      "source": [
        "#splitting the data\n",
        "x_train ,x_test,y_train,y_test=train_test_split(x_scaled,y,test_size=0.2,random_state=42)"
      ]
    },
    {
      "cell_type": "markdown",
      "metadata": {
        "id": "vsQoft58VVBb"
      },
      "source": [
        "# Apply LogisticRegression"
      ]
    },
    {
      "cell_type": "code",
      "execution_count": 16,
      "metadata": {
        "id": "0CS7QcVCVbcy"
      },
      "outputs": [],
      "source": [
        "\n",
        "#apply the model\n",
        "log_reg=LogisticRegression(max_iter=5000)\n",
        "\n",
        "log_reg.fit(x_train,y_train)\n",
        "\n",
        "#prediction\n",
        "y_pred=log_reg.predict(x_test)"
      ]
    },
    {
      "cell_type": "code",
      "execution_count": 17,
      "metadata": {
        "colab": {
          "base_uri": "https://localhost:8080/"
        },
        "id": "OPbCpHmGto8r",
        "outputId": "c8d6bf1e-173c-49fb-96dc-876316f38417"
      },
      "outputs": [
        {
          "name": "stdout",
          "output_type": "stream",
          "text": [
            "R2 Score 0.9460599274206357\n"
          ]
        }
      ],
      "source": [
        "log_r2=r2_score(y_test,y_pred)\n",
        "print(f'R2 Score {log_r2}')"
      ]
    },
    {
      "cell_type": "code",
      "execution_count": 18,
      "metadata": {
        "colab": {
          "base_uri": "https://localhost:8080/"
        },
        "id": "XS3VwqYuWnWV",
        "outputId": "7a67f984-d8a3-4382-c8f4-8fd7732b61ff"
      },
      "outputs": [
        {
          "name": "stdout",
          "output_type": "stream",
          "text": [
            "Accuracy= 0.9666666666666667\n"
          ]
        }
      ],
      "source": [
        "#accuracy\n",
        "log_acc=accuracy_score(y_test,y_pred)\n",
        "print(f\"Accuracy= {log_acc}\")"
      ]
    },
    {
      "cell_type": "code",
      "execution_count": 19,
      "metadata": {
        "colab": {
          "base_uri": "https://localhost:8080/"
        },
        "id": "64KA05yMt5mK",
        "outputId": "7dbbef5e-384e-4c72-c8dd-bcf2829073c6"
      },
      "outputs": [
        {
          "name": "stdout",
          "output_type": "stream",
          "text": [
            "MSE = 0.4166666666666667\n"
          ]
        }
      ],
      "source": [
        "log_mse=mean_squared_error(y_test,y_pred)\n",
        "print(f'MSE = {log_mse}')"
      ]
    },
    {
      "cell_type": "code",
      "execution_count": 20,
      "metadata": {
        "colab": {
          "base_uri": "https://localhost:8080/"
        },
        "id": "djovR03dWprL",
        "outputId": "a1597b0b-177d-43e3-9b2e-1643975315c3"
      },
      "outputs": [
        {
          "name": "stdout",
          "output_type": "stream",
          "text": [
            "Logistic Regression Report \n",
            "               precision    recall  f1-score   support\n",
            "\n",
            "           0       1.00      1.00      1.00        33\n",
            "           1       0.96      0.96      0.96        28\n",
            "           2       0.97      1.00      0.99        33\n",
            "           3       1.00      0.97      0.99        34\n",
            "           4       1.00      0.98      0.99        46\n",
            "           5       0.91      0.91      0.91        47\n",
            "           6       0.97      0.97      0.97        35\n",
            "           7       1.00      0.97      0.99        34\n",
            "           8       0.97      0.97      0.97        30\n",
            "           9       0.90      0.95      0.93        40\n",
            "\n",
            "    accuracy                           0.97       360\n",
            "   macro avg       0.97      0.97      0.97       360\n",
            "weighted avg       0.97      0.97      0.97       360\n",
            "\n"
          ]
        }
      ],
      "source": [
        "# classification report\n",
        "report=classification_report(y_test,y_pred)\n",
        "print(f\"Logistic Regression Report \\n\",report)"
      ]
    },
    {
      "cell_type": "markdown",
      "metadata": {
        "id": "8lS5RDtPX8tt"
      },
      "source": [
        "# Apply KNN"
      ]
    },
    {
      "cell_type": "code",
      "execution_count": 21,
      "metadata": {
        "id": "JFLJuIBlYEz8"
      },
      "outputs": [],
      "source": [
        "knn=KNeighborsClassifier(n_neighbors=6)\n",
        "\n",
        "knn.fit(x_train,y_train)\n",
        "\n",
        "#prediction\n",
        "y_predd = knn.predict(x_test)\n",
        "\n"
      ]
    },
    {
      "cell_type": "code",
      "execution_count": 22,
      "metadata": {
        "colab": {
          "base_uri": "https://localhost:8080/"
        },
        "id": "pws-znB8uX2C",
        "outputId": "e41bcaa2-c12c-48be-fe11-129c07173edb"
      },
      "outputs": [
        {
          "name": "stdout",
          "output_type": "stream",
          "text": [
            "R2 Score 0.9834583777423282\n"
          ]
        }
      ],
      "source": [
        "knn_r2=r2_score(y_test,y_predd)\n",
        "print(f'R2 Score {knn_r2}')"
      ]
    },
    {
      "cell_type": "code",
      "execution_count": 23,
      "metadata": {
        "colab": {
          "base_uri": "https://localhost:8080/"
        },
        "id": "VtzSQBTwarsC",
        "outputId": "2e6564eb-9011-4925-b282-cc25d0477be9"
      },
      "outputs": [
        {
          "name": "stdout",
          "output_type": "stream",
          "text": [
            "Accuracy= 0.9888888888888889\n"
          ]
        }
      ],
      "source": [
        "#accuracy\n",
        "knn_acc=accuracy_score(y_test,y_predd)\n",
        "print(f\"Accuracy= {knn_acc}\")"
      ]
    },
    {
      "cell_type": "code",
      "execution_count": 24,
      "metadata": {
        "colab": {
          "base_uri": "https://localhost:8080/"
        },
        "id": "utGUhqrVuf1U",
        "outputId": "3f8038b5-d956-4de9-8050-ffa70c81ae22"
      },
      "outputs": [
        {
          "name": "stdout",
          "output_type": "stream",
          "text": [
            "MSE = 0.12777777777777777\n"
          ]
        }
      ],
      "source": [
        "knn_mse=mean_squared_error(y_test,y_predd)\n",
        "print(f'MSE = {knn_mse}')"
      ]
    },
    {
      "cell_type": "code",
      "execution_count": 25,
      "metadata": {
        "colab": {
          "base_uri": "https://localhost:8080/"
        },
        "id": "XEcTqvkjazZr",
        "outputId": "4624675f-5808-4f81-924e-a98d21fc9ce7"
      },
      "outputs": [
        {
          "name": "stdout",
          "output_type": "stream",
          "text": [
            "KNN Report \n",
            "               precision    recall  f1-score   support\n",
            "\n",
            "           0       1.00      1.00      1.00        33\n",
            "           1       1.00      1.00      1.00        28\n",
            "           2       1.00      1.00      1.00        33\n",
            "           3       1.00      1.00      1.00        34\n",
            "           4       0.98      1.00      0.99        46\n",
            "           5       0.98      0.98      0.98        47\n",
            "           6       0.97      1.00      0.99        35\n",
            "           7       1.00      0.97      0.99        34\n",
            "           8       1.00      1.00      1.00        30\n",
            "           9       0.97      0.95      0.96        40\n",
            "\n",
            "    accuracy                           0.99       360\n",
            "   macro avg       0.99      0.99      0.99       360\n",
            "weighted avg       0.99      0.99      0.99       360\n",
            "\n"
          ]
        }
      ],
      "source": [
        "# classification report\n",
        "report=classification_report(y_test,y_predd)\n",
        "print(f\"KNN Report \\n\",report)"
      ]
    },
    {
      "cell_type": "markdown",
      "metadata": {
        "id": "XcLl-yAUbp27"
      },
      "source": [
        "# Apply RandomForest"
      ]
    },
    {
      "cell_type": "code",
      "execution_count": 26,
      "metadata": {
        "id": "hZAJBwrPbmYy"
      },
      "outputs": [],
      "source": [
        "# apply the model with SCALED DATA\n",
        "r_forest=RandomForestClassifier(n_estimators=100,random_state=42)\n",
        "\n",
        "r_forest.fit(x_train,y_train)\n",
        "\n",
        "#prediction\n",
        "ypred=r_forest.predict(x_test)\n"
      ]
    },
    {
      "cell_type": "code",
      "execution_count": 27,
      "metadata": {
        "colab": {
          "base_uri": "https://localhost:8080/"
        },
        "id": "agEeNsbmuxAJ",
        "outputId": "3d0b9971-9bc7-4ce7-b39e-aa1cb4cf7d65"
      },
      "outputs": [
        {
          "name": "stdout",
          "output_type": "stream",
          "text": [
            "R2 Score 0.9510943341947097\n"
          ]
        }
      ],
      "source": [
        "rf_r2=r2_score(y_test,ypred)\n",
        "print(f'R2 Score {rf_r2}')"
      ]
    },
    {
      "cell_type": "code",
      "execution_count": 28,
      "metadata": {
        "colab": {
          "base_uri": "https://localhost:8080/"
        },
        "id": "kRrgmedrc0JM",
        "outputId": "d84869b1-d6c2-408a-c238-457b4f8d2d91"
      },
      "outputs": [
        {
          "name": "stdout",
          "output_type": "stream",
          "text": [
            "Accuracy=0.9722222222222222\n"
          ]
        }
      ],
      "source": [
        "rforest_acc=accuracy_score(y_test,ypred)\n",
        "print(f\"Accuracy={rforest_acc}\")"
      ]
    },
    {
      "cell_type": "code",
      "execution_count": 29,
      "metadata": {
        "colab": {
          "base_uri": "https://localhost:8080/"
        },
        "id": "TNmOqigau5SJ",
        "outputId": "3786c71c-377e-4650-9cbf-470aa75dc869"
      },
      "outputs": [
        {
          "name": "stdout",
          "output_type": "stream",
          "text": [
            "MSE = 0.37777777777777777\n"
          ]
        }
      ],
      "source": [
        "rf_mse=mean_squared_error(y_test,ypred)\n",
        "print(f'MSE = {rf_mse}')"
      ]
    },
    {
      "cell_type": "code",
      "execution_count": 30,
      "metadata": {
        "colab": {
          "base_uri": "https://localhost:8080/"
        },
        "id": "bPKJ_fmldECl",
        "outputId": "dd80bb3d-878b-4879-dc57-91cd0547b4fb"
      },
      "outputs": [
        {
          "name": "stdout",
          "output_type": "stream",
          "text": [
            "Random Forest Report \n",
            "               precision    recall  f1-score   support\n",
            "\n",
            "           0       1.00      0.97      0.98        33\n",
            "           1       0.97      1.00      0.98        28\n",
            "           2       1.00      1.00      1.00        33\n",
            "           3       1.00      0.94      0.97        34\n",
            "           4       0.98      1.00      0.99        46\n",
            "           5       0.94      0.96      0.95        47\n",
            "           6       0.97      0.97      0.97        35\n",
            "           7       0.97      0.97      0.97        34\n",
            "           8       0.97      0.97      0.97        30\n",
            "           9       0.95      0.95      0.95        40\n",
            "\n",
            "    accuracy                           0.97       360\n",
            "   macro avg       0.97      0.97      0.97       360\n",
            "weighted avg       0.97      0.97      0.97       360\n",
            "\n"
          ]
        }
      ],
      "source": [
        "rforest_report=classification_report(y_test,ypred)\n",
        "print(f\"Random Forest Report \\n {rforest_report}\")"
      ]
    },
    {
      "cell_type": "markdown",
      "metadata": {
        "id": "hUCHYJhRe8no"
      },
      "source": [
        "# Apply MLP\n"
      ]
    },
    {
      "cell_type": "code",
      "execution_count": 31,
      "metadata": {
        "id": "vgxgwQnHebJ-"
      },
      "outputs": [],
      "source": [
        "#build mlp\n",
        "mlp=MLPClassifier(hidden_layer_sizes=100,activation='relu',solver='adam',max_iter=500,random_state=42)\n",
        "\n",
        "mlp.fit(x_train,y_train)\n",
        "\n",
        "#prediction\n",
        "ypredd=mlp.predict(x_test)\n"
      ]
    },
    {
      "cell_type": "code",
      "execution_count": 32,
      "metadata": {
        "colab": {
          "base_uri": "https://localhost:8080/"
        },
        "id": "5qgOicJkvMR3",
        "outputId": "3ebbccff-23e7-4a12-f154-d49d2e08ead1"
      },
      "outputs": [
        {
          "name": "stdout",
          "output_type": "stream",
          "text": [
            "R2 Score 0.9751875666134924\n"
          ]
        }
      ],
      "source": [
        "mlp_r2=r2_score(y_test,ypredd)\n",
        "print(f'R2 Score {mlp_r2}')"
      ]
    },
    {
      "cell_type": "code",
      "execution_count": 33,
      "metadata": {
        "colab": {
          "base_uri": "https://localhost:8080/"
        },
        "id": "Icv41mPCgME8",
        "outputId": "9f72a70d-558c-4cf9-95aa-f3e9c8c611aa"
      },
      "outputs": [
        {
          "name": "stdout",
          "output_type": "stream",
          "text": [
            "MLP Accuracy= 0.9805555555555555\n"
          ]
        }
      ],
      "source": [
        "mlp_acc=accuracy_score(y_test,ypredd)\n",
        "print(f\"MLP Accuracy= {mlp_acc}\")"
      ]
    },
    {
      "cell_type": "code",
      "execution_count": 34,
      "metadata": {
        "colab": {
          "base_uri": "https://localhost:8080/"
        },
        "id": "-7DgG7AmvsBh",
        "outputId": "1b119092-4e9e-4698-8ae8-458fc28a1643"
      },
      "outputs": [
        {
          "name": "stdout",
          "output_type": "stream",
          "text": [
            "MSE = 0.19166666666666668\n"
          ]
        }
      ],
      "source": [
        "mlp_mse=mean_squared_error(y_test,ypredd)\n",
        "print(f'MSE = {mlp_mse}')"
      ]
    },
    {
      "cell_type": "code",
      "execution_count": 35,
      "metadata": {
        "colab": {
          "base_uri": "https://localhost:8080/"
        },
        "id": "Dcha-5kJgcjr",
        "outputId": "a8dab659-41dc-483b-cef2-006d9f7adc84"
      },
      "outputs": [
        {
          "name": "stdout",
          "output_type": "stream",
          "text": [
            "MLP report \n",
            "               precision    recall  f1-score   support\n",
            "\n",
            "           0       1.00      1.00      1.00        33\n",
            "           1       0.97      1.00      0.98        28\n",
            "           2       1.00      1.00      1.00        33\n",
            "           3       1.00      0.97      0.99        34\n",
            "           4       1.00      1.00      1.00        46\n",
            "           5       0.94      0.98      0.96        47\n",
            "           6       0.97      0.97      0.97        35\n",
            "           7       1.00      0.97      0.99        34\n",
            "           8       0.97      0.93      0.95        30\n",
            "           9       0.97      0.97      0.97        40\n",
            "\n",
            "    accuracy                           0.98       360\n",
            "   macro avg       0.98      0.98      0.98       360\n",
            "weighted avg       0.98      0.98      0.98       360\n",
            "\n"
          ]
        }
      ],
      "source": [
        "#classification report\n",
        "mlp_report=classification_report(y_test,ypredd)\n",
        "print(f\"MLP report \\n {mlp_report}\")"
      ]
    },
    {
      "cell_type": "markdown",
      "metadata": {
        "id": "6jD1ICJE8-fx"
      },
      "source": [
        "# Apply CNN"
      ]
    },
    {
      "cell_type": "code",
      "execution_count": 36,
      "metadata": {
        "id": "RzK7Zwuo9DGa"
      },
      "outputs": [],
      "source": [
        "# form the data\n",
        "X=digits.images\n",
        "Y=digits.target"
      ]
    },
    {
      "cell_type": "code",
      "execution_count": null,
      "metadata": {
        "id": "D_NNMJEa9uvd"
      },
      "outputs": [],
      "source": [
        "# normalize and reshape X\n",
        "X=X.reshape(-1,8,8,1).astype('float32')/16.0"
      ]
    },
    {
      "cell_type": "code",
      "execution_count": 43,
      "metadata": {
        "id": "UIItp1tm_Cvt"
      },
      "outputs": [],
      "source": [
        "#convert y by one-hot\n",
        "Y_encoded=to_categorical(Y,num_classes=10)"
      ]
    },
    {
      "cell_type": "code",
      "execution_count": 45,
      "metadata": {
        "id": "S6d3_55w_S0K"
      },
      "outputs": [],
      "source": [
        "#splitting the data\n",
        "X_train,X_test,Y_train,Y_test=train_test_split(X,Y_encoded,test_size=0.2,random_state=42)"
      ]
    },
    {
      "cell_type": "code",
      "execution_count": 64,
      "metadata": {
        "colab": {
          "base_uri": "https://localhost:8080/"
        },
        "id": "7G0duG7XAogW",
        "outputId": "6d9f38da-3538-4ccb-8fba-852be16255bf"
      },
      "outputs": [
        {
          "name": "stdout",
          "output_type": "stream",
          "text": [
            "Epoch 1/8\n",
            "\u001b[1m41/41\u001b[0m \u001b[32m━━━━━━━━━━━━━━━━━━━━\u001b[0m\u001b[37m\u001b[0m \u001b[1m3s\u001b[0m 23ms/step - accuracy: 0.3224 - loss: 2.5526 - val_accuracy: 0.7500 - val_loss: 1.0814\n",
            "Epoch 2/8\n",
            "\u001b[1m41/41\u001b[0m \u001b[32m━━━━━━━━━━━━━━━━━━━━\u001b[0m\u001b[37m\u001b[0m \u001b[1m1s\u001b[0m 16ms/step - accuracy: 0.7697 - loss: 0.6411 - val_accuracy: 0.9514 - val_loss: 0.4226\n",
            "Epoch 3/8\n",
            "\u001b[1m41/41\u001b[0m \u001b[32m━━━━━━━━━━━━━━━━━━━━\u001b[0m\u001b[37m\u001b[0m \u001b[1m1s\u001b[0m 16ms/step - accuracy: 0.8808 - loss: 0.3839 - val_accuracy: 0.9375 - val_loss: 0.2680\n",
            "Epoch 4/8\n",
            "\u001b[1m41/41\u001b[0m \u001b[32m━━━━━━━━━━━━━━━━━━━━\u001b[0m\u001b[37m\u001b[0m \u001b[1m1s\u001b[0m 16ms/step - accuracy: 0.8959 - loss: 0.2771 - val_accuracy: 0.9792 - val_loss: 0.1129\n",
            "Epoch 5/8\n",
            "\u001b[1m41/41\u001b[0m \u001b[32m━━━━━━━━━━━━━━━━━━━━\u001b[0m\u001b[37m\u001b[0m \u001b[1m1s\u001b[0m 16ms/step - accuracy: 0.9274 - loss: 0.2464 - val_accuracy: 0.9653 - val_loss: 0.1112\n",
            "Epoch 6/8\n",
            "\u001b[1m41/41\u001b[0m \u001b[32m━━━━━━━━━━━━━━━━━━━━\u001b[0m\u001b[37m\u001b[0m \u001b[1m1s\u001b[0m 15ms/step - accuracy: 0.9345 - loss: 0.1906 - val_accuracy: 0.9722 - val_loss: 0.0777\n",
            "Epoch 7/8\n",
            "\u001b[1m41/41\u001b[0m \u001b[32m━━━━━━━━━━━━━━━━━━━━\u001b[0m\u001b[37m\u001b[0m \u001b[1m2s\u001b[0m 24ms/step - accuracy: 0.9595 - loss: 0.1378 - val_accuracy: 0.9931 - val_loss: 0.0434\n",
            "Epoch 8/8\n",
            "\u001b[1m41/41\u001b[0m \u001b[32m━━━━━━━━━━━━━━━━━━━━\u001b[0m\u001b[37m\u001b[0m \u001b[1m1s\u001b[0m 27ms/step - accuracy: 0.9620 - loss: 0.1201 - val_accuracy: 0.9931 - val_loss: 0.0439\n",
            "CNN Accuracy = 0.9917\n"
          ]
        }
      ],
      "source": [
        "cnn=models.Sequential([\n",
        "      layers.Conv2D(64,(3,3),activation='relu',padding='same',input_shape=(8,8,1)),\n",
        "      layers.BatchNormalization(),\n",
        "      layers.MaxPooling2D((2,2)),\n",
        "      layers.Dropout(0.4),\n",
        "\n",
        "      layers.Conv2D(128,(3,3),activation='relu',padding='same'),\n",
        "      layers.BatchNormalization(),\n",
        "      layers.MaxPooling2D((2,2)),\n",
        "\n",
        "      layers.Flatten(),\n",
        "      layers.Dense(128,activation='relu'),\n",
        "      layers.Dropout(0.5),\n",
        "      layers.Dense(10,activation='softmax')\n",
        "\n",
        "])\n",
        "\n",
        "cnn.compile(optimizer=Adam(learning_rate=0.001),\n",
        "            loss='categorical_crossentropy',metrics=['accuracy'])\n",
        "\n",
        "cnn.fit(X_train ,Y_train ,epochs=8 ,batch_size=32 ,validation_split=0.1, verbose=1)\n",
        "\n",
        "acc_cnn=cnn.evaluate(X_test,Y_test,verbose=0)[1]\n",
        "print(f'CNN Accuracy = {acc_cnn:.4f}')"
      ]
    },
    {
      "cell_type": "code",
      "execution_count": 69,
      "metadata": {
        "colab": {
          "base_uri": "https://localhost:8080/"
        },
        "id": "m-zqtRwIS-mJ",
        "outputId": "df4b06f2-da05-4a48-b961-a04bf42cc756"
      },
      "outputs": [
        {
          "name": "stdout",
          "output_type": "stream",
          "text": [
            "\u001b[1m12/12\u001b[0m \u001b[32m━━━━━━━━━━━━━━━━━━━━\u001b[0m\u001b[37m\u001b[0m \u001b[1m0s\u001b[0m 5ms/step \n"
          ]
        }
      ],
      "source": [
        "cnn_pred=cnn.predict(X_test)\n"
      ]
    },
    {
      "cell_type": "code",
      "execution_count": 71,
      "metadata": {
        "colab": {
          "base_uri": "https://localhost:8080/"
        },
        "id": "7NKWArCVTRUt",
        "outputId": "c9ac6bb0-ed14-494f-eb8e-53a0efc89b02"
      },
      "outputs": [
        {
          "name": "stdout",
          "output_type": "stream",
          "text": [
            "R² Score = 0.9731\n"
          ]
        }
      ],
      "source": [
        "cnn_r2=r2_score(Y_test,cnn_pred)\n",
        "print(f\"R² Score = {cnn_r2:.4f}\")"
      ]
    },
    {
      "cell_type": "code",
      "execution_count": 72,
      "metadata": {
        "colab": {
          "base_uri": "https://localhost:8080/"
        },
        "id": "MYjaujZ7T3gQ",
        "outputId": "8da914cf-6182-4d52-e337-96f98e3746e0"
      },
      "outputs": [
        {
          "name": "stdout",
          "output_type": "stream",
          "text": [
            "MSE = 0.0023\n"
          ]
        }
      ],
      "source": [
        "cnn_mse=mean_squared_error(Y_test,cnn_pred)\n",
        "print(f\"MSE = {cnn_mse:.4f}\")\n"
      ]
    },
    {
      "cell_type": "code",
      "execution_count": 52,
      "metadata": {},
      "outputs": [
        {
          "name": "stderr",
          "output_type": "stream",
          "text": [
            "WARNING:absl:You are saving your model as an HDF5 file via `model.save()` or `keras.saving.save_model(model)`. This file format is considered legacy. We recommend using instead the native Keras format, e.g. `model.save('my_model.keras')` or `keras.saving.save_model(model, 'my_model.keras')`. \n"
          ]
        }
      ],
      "source": [
        "cnn.save('modell.h5')"
      ]
    },
    {
      "cell_type": "markdown",
      "metadata": {
        "id": "vBIDSmf0jGfE"
      },
      "source": [
        "# Visualization"
      ]
    },
    {
      "cell_type": "code",
      "execution_count": 65,
      "metadata": {
        "id": "xxRBsQAMjwpW"
      },
      "outputs": [],
      "source": [
        "DATA={'Models':['LogisticReg','KNN','RandomForest','MLP','CNN'],\n",
        "          'Accuracy':[log_acc , knn_acc , rforest_acc , mlp_acc ,acc_cnn]}\n",
        "df=pd.DataFrame(DATA)"
      ]
    },
    {
      "cell_type": "code",
      "execution_count": 66,
      "metadata": {
        "colab": {
          "base_uri": "https://localhost:8080/",
          "height": 564
        },
        "id": "4ZT4Oyekg5pP",
        "outputId": "3a47fbaa-767b-4add-bf45-f70693f6364e"
      },
      "outputs": [
        {
          "data": {
            "image/png": "[encoded data removed]",
            "text/plain": [
              "<Figure size 800x600 with 1 Axes>"
            ]
          },
          "metadata": {},
          "output_type": "display_data"
        }
      ],
      "source": [
        "plt.figure(figsize=(8,6))\n",
        "sns.stripplot(df,x='Models',y='Accuracy',palette='viridis', size=10)\n",
        "plt.ylabel('Accuracy')\n",
        "plt.xlabel('Model')\n",
        "plt.title('Model Accuracy Comparison')\n",
        "plt.show()"
      ]
    },
    {
      "cell_type": "code",
      "execution_count": 73,
      "metadata": {
        "id": "Pyt9G6kMlvSf"
      },
      "outputs": [],
      "source": [
        "DATAA={'models':['LogisticReg','KNN','RandomForest','MLP','CNN'],\n",
        "    'Accuracy':[log_acc , knn_acc , rforest_acc , mlp_acc ,acc_cnn],\n",
        "     'R2 Score':[log_r2 , knn_r2 , rf_r2 , mlp_r2 ,cnn_r2],\n",
        "     'MSE':[log_mse ,knn_mse ,rf_mse ,mlp_mse ,cnn_mse]}"
      ]
    },
    {
      "cell_type": "code",
      "execution_count": 74,
      "metadata": {
        "id": "7gC-rROBwyvn"
      },
      "outputs": [],
      "source": [
        "dff=pd.DataFrame(DATAA)"
      ]
    },
    {
      "cell_type": "code",
      "execution_count": 75,
      "metadata": {
        "colab": {
          "base_uri": "https://localhost:8080/",
          "height": 408
        },
        "id": "1o_4JMuTw-1d",
        "outputId": "f6d8621c-4a7d-4415-e0ee-fa03bc8fe40e"
      },
      "outputs": [
        {
          "data": {
            "image/png": "[encoded data removed]",
            "text/plain": [
              "<Figure size 1800x500 with 3 Axes>"
            ]
          },
          "metadata": {},
          "output_type": "display_data"
        }
      ],
      "source": [
        "fig, axs = plt.subplots(1, 3, figsize=(18, 5))\n",
        "fig.suptitle('Model Performance Comparison', fontsize=16)\n",
        "\n",
        "axs[0].scatter(dff['models'],dff['MSE'], color='skyblue',s=100)\n",
        "axs[0].set_title('Mean Squared Error (MSE)')\n",
        "axs[0].set_ylabel('MSE')\n",
        "\n",
        "axs[1].scatter(dff['models'],dff['R2 Score'], color='lightgreen',s=100)\n",
        "axs[1].set_title('R² Score')\n",
        "axs[1].set_ylabel('R²')\n",
        "\n",
        "axs[2].scatter(dff['models'],dff['Accuracy'],color='salmon',s=100)\n",
        "axs[2].set_title('Accuracy')\n",
        "axs[2].set_ylabel('Accuracy')\n",
        "\n",
        "plt.tight_layout(rect=[0, 0, 1, 0.95])\n",
        "plt.show()"
      ]
    },
    {
      "cell_type": "code",
      "execution_count": 41,
      "metadata": {
        "id": "75glqIabx9OL"
      },
      "outputs": [],
      "source": []
    }
  ],
  "metadata": {
    "colab": {
      "collapsed_sections": [
        "3S65QpHng4Em",
        "aYCexGIo1SbS",
        "NUy1FCDo32qS",
        "npwkXZkjUOmv",
        "vsQoft58VVBb",
        "8lS5RDtPX8tt",
        "XcLl-yAUbp27",
        "hUCHYJhRe8no"
      ],
      "provenance": []
    },
    "kernelspec": {
      "display_name": "Python 3",
      "name": "python3"
    },
    "language_info": {
      "name": "python"
    }
  },
  "nbformat": 4,
  "nbformat_minor": 0
}
